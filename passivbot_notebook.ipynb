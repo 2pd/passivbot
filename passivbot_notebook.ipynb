{
 "cells": [
  {
   "cell_type": "code",
   "execution_count": null,
   "metadata": {},
   "outputs": [],
   "source": [
    "%load_ext autoreload\n",
    "%autoreload 2"
   ]
  },
  {
   "cell_type": "code",
   "execution_count": null,
   "metadata": {},
   "outputs": [],
   "source": [
    "from passivbot import *\n",
    "from vwap import *\n",
    "import numpy as np\n",
    "import pandas as pd\n",
    "import matplotlib.pyplot as plt"
   ]
  },
  {
   "cell_type": "code",
   "execution_count": null,
   "metadata": {},
   "outputs": [],
   "source": [
    "plt.rcParams['figure.figsize'] = [21, 13]\n",
    "pd.set_option('precision', 10)"
   ]
  },
  {
   "cell_type": "code",
   "execution_count": null,
   "metadata": {},
   "outputs": [],
   "source": [
    "user = 'ebnsub1'\n",
    "commons, vwap, streamer = prepare_bot('binance', user)\n",
    "vwap.stop_updater()\n",
    "commons.stop_call_limiter()"
   ]
  },
  {
   "cell_type": "code",
   "execution_count": null,
   "metadata": {},
   "outputs": [],
   "source": [
    "equities = {}\n",
    "for c in vwap.all_coins_set:\n",
    "    if type(vwap.balance[c]) == int:\n",
    "        continue\n",
    "    s_ = c + '/BTC'\n",
    "    if c != 'BTC' and s_ not in vwap.cc.markets:\n",
    "        continue\n",
    "    equities[c] = vwap.balance[c]['equity'] / vwap.balance[c]['account_equity']\n",
    "print('\\n\\n(coin equity) divided by (account equity in terms of coin)\\n')\n",
    "for e in sorted(equities.items(), key=lambda x: x[1]):\n",
    "    print(f'{e[0]:7} {e[1]:.6f} {\"liquidating\" if e[0] in vwap.do_liquidate else \"\"}')\n"
   ]
  },
  {
   "cell_type": "code",
   "execution_count": null,
   "metadata": {},
   "outputs": [],
   "source": [
    "# uncomment and run this to set emas to current price\n",
    "'''\n",
    "tickers = vwap.cc.fetch_tickers()\n",
    "for sym in vwap.symbols:\n",
    "    vwap.cm.last_price[sym] = tickers[sym]['last']\n",
    "    vwap.cm.min_ema[sym] = tickers[sym]['last']   \n",
    "    vwap.cm.max_ema[sym] = tickers[sym]['last']   \n",
    "'''"
   ]
  },
  {
   "cell_type": "code",
   "execution_count": null,
   "metadata": {},
   "outputs": [],
   "source": [
    "print('n days trade history in memory\\n')\n",
    "rm_ = [((vwap.my_trades[s][-1]['timestamp'] - vwap.my_trades[s][0]['timestamp']) / 1000 / 60 / 60 / 24, s) for s in vwap.symbols]\n",
    "for e in sorted(rm_):\n",
    "    print(f\"{e[1]:13} {e[0]:.2f}\")"
   ]
  },
  {
   "cell_type": "code",
   "execution_count": null,
   "metadata": {},
   "outputs": [],
   "source": [
    "# set symbol for analysis\n",
    "s = 'RVN/BTC'\n",
    "c, q = s.split('/')"
   ]
  },
  {
   "cell_type": "code",
   "execution_count": null,
   "metadata": {},
   "outputs": [],
   "source": [
    "vwap.update_balance()\n",
    "vwap.init_my_trades(s)\n",
    "#vwap.update_my_trades(s)\n",
    "vwap.set_analysis(s, vwap.my_trades[s])\n",
    "vwap.init_loan_history(c, 'borrow')\n",
    "vwap.init_loan_history(c, 'repay')"
   ]
  },
  {
   "cell_type": "code",
   "execution_count": null,
   "metadata": {},
   "outputs": [],
   "source": [
    "vwap.update_open_orders(s)\n",
    "print(f'\\ncurrent open orders for {s}\\n')\n",
    "for my_orders in [vwap.my_bids[s], vwap.my_asks[s]]:\n",
    "    for o in my_orders:\n",
    "        print({k: o[k] for k in ['symbol', 'side', 'amount', 'price']})\n"
   ]
  },
  {
   "cell_type": "code",
   "execution_count": null,
   "metadata": {},
   "outputs": [],
   "source": [
    "events = sorted(vwap.my_trades[s] + vwap.borrow_history[c] + vwap.repay_history[c], key=lambda x: x['timestamp'])\n",
    "do_print = False\n",
    "n = 100\n",
    "print(f'most recent {n} events')\n",
    "for e in events[-n:]:\n",
    "    line = f\"{ts_to_date(e['timestamp'] / 1000)[:19]}  {e['side']:7} {e['amount']:.8f}\"\n",
    "    if 'price' in e:\n",
    "        do_print = True\n",
    "        line += f\" {e['price']}\"\n",
    "    if do_print:\n",
    "        print(line)"
   ]
  },
  {
   "cell_type": "code",
   "execution_count": null,
   "metadata": {},
   "outputs": [],
   "source": [
    "for s_ in vwap.symbols:\n",
    "#for s_ in [s]:\n",
    "    vwap.set_ideal_orders(s_)\n",
    "vwap.allocate_credit()\n",
    "for c_ in [c, q]:\n",
    "    for key in ['free', 'onhand', 'debt', 'borrowable']:\n",
    "        print(f\"{c_} {key:10} {vwap.balance[c_][key]}\")\n",
    "    print()\n",
    "print('borrow', vwap.ideal_borrow[c])\n",
    "print('repay ', vwap.ideal_repay[c])\n",
    "print()\n",
    "print('last_price', vwap.cm.last_price[s])\n",
    "print('\\nideal orders')\n",
    "print('long_buy', vwap.ideal_long_buy[s])\n",
    "print('shrt_sel', vwap.ideal_shrt_sel[s])\n",
    "print('long_sel', vwap.ideal_long_sel[s])\n",
    "print('shrt_buy', vwap.ideal_shrt_buy[s])\n",
    "print('\\nliqui_buy', vwap.ideal_liqui_buy[s])\n",
    "print('liqui_sel', vwap.ideal_liqui_sel[s])\n",
    "\n",
    "print()\n",
    "print('eligible orders')\n",
    "for order in vwap.eligible_entries + vwap.eligible_exits:\n",
    "    if order['symbol'] == s:\n",
    "        print(order)\n",
    "print()\n",
    "print('sum sel amounts', vwap.ideal_shrt_sel[s]['amount'] + vwap.ideal_long_sel[s]['amount'])\n",
    "print('sum onhand', vwap.balance[c]['onhand'] + vwap.ideal_borrow[c])\n",
    "print()\n",
    "print('sum buys cost', (vwap.ideal_shrt_buy[s]['amount'] * vwap.ideal_shrt_buy[s]['price'] +\n",
    "                        vwap.ideal_long_buy[s]['amount'] * vwap.ideal_long_buy[s]['price']))\n",
    "now_millis = vwap.cc.milliseconds()\n",
    "small_trade_cost = max(vwap.min_trade_costs[s],\n",
    "                       vwap.balance[q]['account_equity'] * vwap.account_equity_pct_per_trade[s])\n",
    "entry_delay_millis = (60 * 60 * 1000) / (vwap.account_equity_pct_per_hour[s] / small_trade_cost)\n",
    "print('\\nminutes delay between entries', round(entry_delay_millis / 1000 / 60, 2))\n",
    "print('minutes since prev long entry',\n",
    "      round((now_millis - vwap.my_trades_analyses[s]['last_long_entry_ts']) / 1000 / 60, 2))\n",
    "print('minutes since prev shrt entry',\n",
    "      round((now_millis - vwap.my_trades_analyses[s]['last_shrt_entry_ts']) / 1000 / 60, 2))\n",
    "\n"
   ]
  },
  {
   "cell_type": "code",
   "execution_count": null,
   "metadata": {},
   "outputs": [],
   "source": [
    "# true size of positions\n",
    "vwap.my_trades_analyses[s]"
   ]
  },
  {
   "cell_type": "code",
   "execution_count": null,
   "metadata": {},
   "outputs": [],
   "source": [
    "# dataframe of all trades\n",
    "n_days = vwap.settings['max_memory_span_days']\n",
    "mts = vwap.fetch_my_trades(s)\n",
    "mtdf = pd.DataFrame(mts).set_index('timestamp').drop(['id', 'order_id', 'type'], axis=1)\n",
    "mtdf = mtdf[mtdf.index > (vwap.cc.milliseconds() - 1000 * 60 * 60 * 24 * n_days)]"
   ]
  },
  {
   "cell_type": "code",
   "execution_count": null,
   "metadata": {},
   "outputs": [],
   "source": [
    "threshold = vwap.my_trades_analyses[s]['entry_exit_amount_threshold']\n",
    "print('threshold', threshold)\n",
    "big_trades = mtdf[mtdf.amount > threshold]\n",
    "small_trades = mtdf[mtdf.amount <= threshold]\n",
    "long_buys = small_trades[small_trades.side == 'buy']\n",
    "shrt_sels = small_trades[small_trades.side == 'sell']\n",
    "long_sels = big_trades[big_trades.side == 'sell']\n",
    "shrt_buys = big_trades[big_trades.side == 'buy']\n",
    "\n",
    "lbc = long_buys.cost.sum()\n",
    "lba = long_buys.amount.sum()\n",
    "lsc = long_sels.cost.sum()\n",
    "lsa = long_sels.amount.sum()\n",
    "\n",
    "ssc = shrt_sels.cost.sum()\n",
    "ssa = shrt_sels.amount.sum()\n",
    "sbc = shrt_buys.cost.sum()\n",
    "sba = shrt_buys.amount.sum()\n",
    "\n",
    "print('total quot vol', mtdf.cost.sum())\n",
    "print('n_days', round((mtdf.index[-1] - mtdf.index[0]) / 1000 / 60 / 60 / 24, 2))\n",
    "print()\n",
    "\n",
    "if lba:\n",
    "    print('long_buy_cost', round(lbc, 8), 'long_buy_vwap', round(lbc / lba, 10))\n",
    "if lsa:\n",
    "    print('long_sel_cost', round(lsc, 8), 'long_sel_vwap', round(lsc / lsa, 10))\n",
    "if lba and lsa:\n",
    "    print('long_sel_vwap / long_buy_vwap', round((lsc / lsa) / (lbc / lba), 10))\n",
    "\n",
    "print()\n",
    "\n",
    "if ssa:\n",
    "    print('shrt_sel_cost', round(ssc, 8), 'shrt_sel_vwap', round(ssc / ssa, 10))\n",
    "if sba:\n",
    "    print('shrt_buy_cost', round(sbc, 8), 'shrt_buy_vwap', round(sbc / sba, 10))\n",
    "if ssa and sba:\n",
    "    print('shrt_sel_vwap / shrt_buy_vwap', round((ssc / ssa) / (sbc / sba), 10))\n",
    "\n",
    "all_buys = mtdf[mtdf.side == 'buy']\n",
    "all_sels = mtdf[mtdf.side == 'sell']\n",
    "abc = all_buys.cost.sum()\n",
    "aba = all_buys.amount.sum()\n",
    "asc = all_sels.cost.sum()\n",
    "asa = all_sels.amount.sum()\n",
    "\n",
    "print()\n",
    "print('all buy_cost', round(abc, 8), 'buy_vwap', round(abc / aba, 10))\n",
    "print('all sel_cost', round(asc, 8), 'sel_vwap', round(asc / asa, 10))\n",
    "print('all sel_vwap / buy_vwap', round((asc / asa) / (abc / aba), 10))\n",
    "\n",
    "    \n"
   ]
  },
  {
   "cell_type": "code",
   "execution_count": null,
   "metadata": {},
   "outputs": [],
   "source": [
    "# blue dots are long buys, red dots are long sells, red cross is current long sell price\n",
    "long_buys.price.plot(style='b.-')\n",
    "long_sels.price.plot(style='ro')\n",
    "long_sel_price = vwap.my_trades_analyses[s]['long_sel_price']\n",
    "if long_sel_price > 0.0:\n",
    "    plt.plot([long_buys.index[-1]], [long_sel_price], 'r+')\n",
    "    print(f'long_exit_price / current_price {long_sel_price / vwap.cm.last_price[s]:.4f}')\n"
   ]
  },
  {
   "cell_type": "code",
   "execution_count": null,
   "metadata": {},
   "outputs": [],
   "source": [
    "# red dots are short sells, blue dots are short buys, blue cross is current short buy price\n",
    "shrt_sels.price.plot(style='r.-')\n",
    "shrt_buys.price.plot(style='bo')\n",
    "shrt_buy_price = vwap.my_trades_analyses[s]['shrt_buy_price']\n",
    "if shrt_buy_price > 0.0:\n",
    "    plt.plot([shrt_sels.index[-1]], [shrt_buy_price], 'b+')\n",
    "    print(f'current_price / shrt_exit_price {vwap.cm.last_price[s] / shrt_buy_price:.4f}')"
   ]
  },
  {
   "cell_type": "code",
   "execution_count": null,
   "metadata": {},
   "outputs": [],
   "source": [
    "# all buys and sells in one\n",
    "all_sels.price.plot(style='ro-')\n",
    "all_buys.price.plot(style='bo-')"
   ]
  },
  {
   "cell_type": "code",
   "execution_count": null,
   "metadata": {},
   "outputs": [],
   "source": [
    "tlc = {} # true long costs\n",
    "tsc = {} # true shrt costs\n",
    "long_vwaps = {}\n",
    "shrt_vwaps = {}\n",
    "for s_ in vwap.my_trades_analyses:\n",
    "    tlc[s_] = vwap.my_trades_analyses[s_]['true_long_cost']\n",
    "    tsc[s_] = vwap.my_trades_analyses[s_]['true_shrt_cost']\n",
    "    long_vwaps[s_] = vwap.my_trades_analyses[s_]['true_long_vwap']\n",
    "    shrt_vwaps[s_] = vwap.my_trades_analyses[s_]['true_shrt_vwap']\n",
    "print('exit costs sorted low to high')\n",
    "for itm in sorted([(e[0], round(e[1], 4)) for e in tlc.items()], key=lambda x: x[1])[-20:]:\n",
    "    print('true long cost', itm)\n",
    "print()\n",
    "for itm in sorted([(e[0], round(e[1], 4)) for e in tsc.items()], key=lambda x: x[1])[-20:]:\n",
    "    print('true shrt cost', itm)\n"
   ]
  },
  {
   "cell_type": "code",
   "execution_count": null,
   "metadata": {},
   "outputs": [],
   "source": [
    "lst = [(e[0], round(e[1], 8), vwap.cm.last_price[e[0]], vwap.cm.last_price[e[0]] / (e[1] if e[1] else 10e-10)) for e in shrt_vwaps.items()]\n",
    "print('shrts closest to filling:')\n",
    "for e in sorted(lst, key=lambda x: x[3]):\n",
    "    if e[0] not in vwap.do_shrt:\n",
    "        continue\n",
    "    \n",
    "    line = f\"{e[0]:<12} true shrt cost: {vwap.my_trades_analyses[e[0]]['true_shrt_cost']:.6f}\"\n",
    "    line += f\" true shrt vwap: {e[1]:.8f} last price: {e[2]:.8f}\"\n",
    "    line += f\" div {e[3]:.4f}\"\n",
    "    print(line)\n",
    "\n",
    "    \n",
    "    "
   ]
  },
  {
   "cell_type": "code",
   "execution_count": null,
   "metadata": {},
   "outputs": [],
   "source": [
    "lst = [(e[0], round(e[1], 8), vwap.cm.last_price[e[0]], e[1] / vwap.cm.last_price[e[0]]) for e in long_vwaps.items()]\n",
    "print('longs closest to filling:')\n",
    "for e in sorted(lst, key=lambda x: x[3]):\n",
    "    if e[0] not in vwap.do_long:\n",
    "        continue\n",
    "    \n",
    "    line = f\"{e[0]:<12} true long cost: {vwap.my_trades_analyses[e[0]]['true_long_cost']:.6f}\"\n",
    "    line += f\" true long vwap: {e[1]:.8f} last price: {e[2]:.8f}\"\n",
    "    line += f\" div {e[3]:.4f}\"\n",
    "    print(line)\n",
    "\n",
    "    \n",
    "    "
   ]
  },
  {
   "cell_type": "code",
   "execution_count": null,
   "metadata": {},
   "outputs": [],
   "source": [
    "# past 24h vol per symbol\n",
    "age_limit = vwap.cc.milliseconds() - 1000 * 60 * 60 * 24 * 7\n",
    "vols = []\n",
    "for s_ in vwap.my_trades:\n",
    "    vols.append((round(sum([e['cost'] for e in vwap.my_trades[s_] if e['timestamp'] > age_limit]), 4), s_))\n",
    "print(sum([e[0] for e in vols]))\n",
    "sorted(vols)"
   ]
  },
  {
   "cell_type": "code",
   "execution_count": null,
   "metadata": {},
   "outputs": [],
   "source": [
    "# overall performance analysis"
   ]
  },
  {
   "cell_type": "code",
   "execution_count": null,
   "metadata": {},
   "outputs": [],
   "source": [
    "r = []\n",
    "n_days = 30 # set n_days\n",
    "start_ts = vwap.cc.milliseconds() - 1000 * 60 * 60 * 24 * n_days\n",
    "for s_ in sorted(vwap.my_trades):\n",
    "    sys.stdout.write(f'\\r{s_}  ')\n",
    "    sys.stdout.flush()\n",
    "    mt = vwap.fetch_my_trades(s_)\n",
    "    mtdf = pd.DataFrame(mt).set_index('timestamp')\n",
    "    mtdf = mtdf[mtdf.index > start_ts]\n",
    "    actual_n_days = (mtdf.index[-1] - mtdf.index[0]) / 1000 / 60 / 60 / 24\n",
    "    buys = mtdf[mtdf.side == 'buy']\n",
    "    sels = mtdf[mtdf.side == 'sell']\n",
    "    bcost = buys.cost.sum()\n",
    "    bamount = buys.amount.sum()\n",
    "    bvwap = bcost / bamount\n",
    "    scost = sels.cost.sum()\n",
    "    samount = sels.amount.sum()\n",
    "    svwap = scost / samount\n",
    "    div_ = svwap / bvwap\n",
    "    r.append({'bcost': bcost, 'scost': scost, 'svwap_bvwap': div_, 'actual_n_days': actual_n_days,\n",
    "              'symbol': s_, 'cost': scost + bcost})"
   ]
  },
  {
   "cell_type": "code",
   "execution_count": null,
   "metadata": {},
   "outputs": [],
   "source": [
    "rdf = pd.DataFrame(r)\n",
    "rdf.loc[:,'vwg'] = (rdf.svwap_bvwap - 1) * rdf.cost / rdf.cost.sum()\n",
    "rdf.sort_values('vwg')"
   ]
  },
  {
   "cell_type": "code",
   "execution_count": null,
   "metadata": {},
   "outputs": [],
   "source": [
    "(rdf.svwap_bvwap * rdf.cost / rdf.cost.sum()).sum()"
   ]
  },
  {
   "cell_type": "code",
   "execution_count": null,
   "metadata": {},
   "outputs": [],
   "source": [
    "# view balance logs"
   ]
  },
  {
   "cell_type": "code",
   "execution_count": null,
   "metadata": {},
   "outputs": [],
   "source": [
    "with open(f'logs/binance/{user}/balance_margin.txt') as f:\n",
    "    lines = f.readlines()"
   ]
  },
  {
   "cell_type": "code",
   "execution_count": null,
   "metadata": {},
   "outputs": [],
   "source": [
    "bals = sorted([json.loads(line) for line in lines], key=lambda x: x['timestamp'])[2:]\n",
    "ndays = (bals[-1]['timestamp'] - bals[0]['timestamp']) / 1000 / 60 / 60 / 24\n",
    "print('n_days', ndays)"
   ]
  },
  {
   "cell_type": "code",
   "execution_count": null,
   "metadata": {},
   "outputs": [],
   "source": [
    "len(bals)"
   ]
  },
  {
   "cell_type": "code",
   "execution_count": null,
   "metadata": {},
   "outputs": [],
   "source": [
    "plt.plot([b['timestamp'] for b in bals], [b['BTC']['account_equity'] for b in bals])"
   ]
  },
  {
   "cell_type": "code",
   "execution_count": null,
   "metadata": {},
   "outputs": [],
   "source": [
    "print('average daily gain')\n",
    "(bals[-1]['BTC']['account_equity'] / bals[0]['BTC']['account_equity'])**(1 / ndays)"
   ]
  },
  {
   "cell_type": "code",
   "execution_count": null,
   "metadata": {},
   "outputs": [],
   "source": [
    "'''\n",
    "p * adg**ndays = r\n",
    "adg**ndays = r / p\n",
    "adg = (r / p)**(1 / ndays)\n",
    "'''"
   ]
  },
  {
   "cell_type": "code",
   "execution_count": null,
   "metadata": {},
   "outputs": [],
   "source": []
  },
  {
   "cell_type": "code",
   "execution_count": null,
   "metadata": {},
   "outputs": [],
   "source": []
  },
  {
   "cell_type": "code",
   "execution_count": null,
   "metadata": {},
   "outputs": [],
   "source": []
  }
 ],
 "metadata": {
  "kernelspec": {
   "display_name": "Python 3",
   "language": "python",
   "name": "python3"
  },
  "language_info": {
   "codemirror_mode": {
    "name": "ipython",
    "version": 3
   },
   "file_extension": ".py",
   "mimetype": "text/x-python",
   "name": "python",
   "nbconvert_exporter": "python",
   "pygments_lexer": "ipython3",
   "version": "3.8.2"
  }
 },
 "nbformat": 4,
 "nbformat_minor": 4
}
