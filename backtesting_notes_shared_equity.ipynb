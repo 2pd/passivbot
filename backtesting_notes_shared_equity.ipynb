{
 "cells": [
  {
   "cell_type": "code",
   "execution_count": null,
   "metadata": {},
   "outputs": [],
   "source": [
    "%load_ext autoreload\n",
    "%autoreload 2"
   ]
  },
  {
   "cell_type": "code",
   "execution_count": null,
   "metadata": {},
   "outputs": [],
   "source": [
    "from backtester_shared_equity import *\n",
    "from trade_data import fetch_ohlcvs\n",
    "from passivbot_isolated_margin import load_settings\n",
    "import matplotlib.pyplot as plt\n",
    "import pandas as pd\n",
    "import numpy as np\n",
    "from pprint import PrettyPrinter\n",
    "from common_functions import sort_dict_keys"
   ]
  },
  {
   "cell_type": "code",
   "execution_count": null,
   "metadata": {},
   "outputs": [],
   "source": [
    "plt.rcParams['figure.figsize'] = [21, 13]\n",
    "pd.set_option('precision', 10)\n",
    "pp = PrettyPrinter()"
   ]
  },
  {
   "cell_type": "code",
   "execution_count": null,
   "metadata": {},
   "outputs": [],
   "source": [
    "user = 'your_user_name'\n",
    "all_settings = load_settings(user)\n",
    "settings = all_settings['default']\n",
    "settings['max_entry_acc_val_pct_per_hour'] = all_settings['global']['max_entry_acc_val_pct_per_hour']\n",
    "settings"
   ]
  },
  {
   "cell_type": "code",
   "execution_count": null,
   "metadata": {},
   "outputs": [],
   "source": [
    "n_days = 360 * 4\n",
    "symbols = sorted(set([c + '/BTC' for c in ['AAA', 'BBB', 'CCC', 'DDD']]))\n",
    "settings['symbols'] = symbols\n",
    "dfs = {s: prep_df(fetch_ohlcvs(s, n_days, no_download=True), settings) for s in symbols}\n",
    "settings['precisions'] = {s: calc_price_precision(dfs[s].low[::100]) for s in dfs}"
   ]
  },
  {
   "cell_type": "code",
   "execution_count": null,
   "metadata": {},
   "outputs": [],
   "source": [
    "df = merge_dfs(dfs)\n",
    "print('n_days', (df.index[-1] - df.index[0]) / DAY_TO_MILLIS)"
   ]
  },
  {
   "cell_type": "code",
   "execution_count": null,
   "metadata": {},
   "outputs": [],
   "source": [
    "# modify settings\n",
    "settings['max_entry_acc_val_pct_per_hour'] = 0.002\n",
    "settings['entry_vol_modifier_exponent'] = 10\n",
    "settings['min_exit_cost_multiplier'] = 10\n",
    "settings['min_entry_delay_hours'] = 6\n",
    "settings['min_markup_pct'] = 0.005\n",
    "settings['max_markup_pct'] = 0.1\n",
    "settings['n_days_to_min_markup'] = 18"
   ]
  },
  {
   "cell_type": "code",
   "execution_count": null,
   "metadata": {},
   "outputs": [],
   "source": [
    "logs, trades = backtest(df, settings)\n",
    "ldf = pd.DataFrame(logs).set_index('timestamp')\n",
    "ldf"
   ]
  },
  {
   "cell_type": "code",
   "execution_count": null,
   "metadata": {},
   "outputs": [],
   "source": [
    "hwm = ldf.equity.max()\n",
    "hwmi = ldf.equity.idxmax()\n",
    "n_days_hwm = (hwmi - ldf.index[0]) / DAY_TO_MILLIS\n",
    "adg = hwm ** (1 / n_days_hwm)\n",
    "print(f'average daily gain {adg:.6f} high water mark {hwm}')\n",
    "print(f'average yearly gain {adg**(365):.6f}')\n",
    "\n",
    "ldf.equity.plot()"
   ]
  },
  {
   "cell_type": "code",
   "execution_count": null,
   "metadata": {},
   "outputs": [],
   "source": [
    "print('lowest margin level', ldf.margin_level.min())\n",
    "ldf.margin_level.plot()"
   ]
  },
  {
   "cell_type": "code",
   "execution_count": null,
   "metadata": {},
   "outputs": [],
   "source": [
    "s = symbols[0]\n",
    "print(s)\n",
    "tdf = pd.DataFrame(trades[s]).set_index('timestamp').sort_index()\n",
    "buys = tdf[tdf.side == 'buy']\n",
    "sels = tdf[tdf.side == 'sel']\n",
    "lv = tdf.long_vwap.dropna()\n",
    "sv = tdf.shrt_vwap.dropna()\n",
    "le = buys[buys.type == 'entry'] # long entry\n",
    "lx = sels[sels.type == 'exit']  # long exit\n",
    "se = sels[sels.type == 'entry'] # shrt entry\n",
    "sx = buys[buys.type == 'exit']  # shrt exit"
   ]
  },
  {
   "cell_type": "code",
   "execution_count": null,
   "metadata": {},
   "outputs": [],
   "source": [
    "lv.plot(style='r-')\n",
    "le.price.plot(style='b.--')\n",
    "lx.price.plot(style='ro')"
   ]
  },
  {
   "cell_type": "code",
   "execution_count": null,
   "metadata": {},
   "outputs": [],
   "source": [
    "sv.plot(style='b-')\n",
    "se.price.plot(style='r.--')\n",
    "sx.price.plot(style='bo')"
   ]
  },
  {
   "cell_type": "code",
   "execution_count": null,
   "metadata": {},
   "outputs": [],
   "source": [
    "bvwap = buys.cost.sum() / buys.amount.sum()\n",
    "svwap = sels.cost.sum() / sels.amount.sum()\n",
    "levwap = le.cost.sum() / le.amount.sum()\n",
    "lxvwap = lx.cost.sum() / lx.amount.sum()\n",
    "sevwap = se.cost.sum() / se.amount.sum()\n",
    "sxvwap = sx.cost.sum() / sx.amount.sum()\n",
    "print('lxvwap / levwap', lxvwap / levwap)\n",
    "print('sevwap / sxvwap', sevwap / sxvwap)\n",
    "print('sevwap / levwap', sevwap / levwap)\n",
    "print('svwap / bvwap', svwap / bvwap)"
   ]
  },
  {
   "cell_type": "code",
   "execution_count": null,
   "metadata": {},
   "outputs": [],
   "source": []
  },
  {
   "cell_type": "code",
   "execution_count": null,
   "metadata": {},
   "outputs": [],
   "source": []
  }
 ],
 "metadata": {
  "kernelspec": {
   "display_name": "Python 3",
   "language": "python",
   "name": "python3"
  },
  "language_info": {
   "codemirror_mode": {
    "name": "ipython",
    "version": 3
   },
   "file_extension": ".py",
   "mimetype": "text/x-python",
   "name": "python",
   "nbconvert_exporter": "python",
   "pygments_lexer": "ipython3",
   "version": "3.8.2"
  }
 },
 "nbformat": 4,
 "nbformat_minor": 4
}
