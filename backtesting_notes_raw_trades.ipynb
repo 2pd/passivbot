{
 "cells": [
  {
   "cell_type": "code",
   "execution_count": null,
   "metadata": {},
   "outputs": [],
   "source": [
    "%load_ext autoreload\n",
    "%autoreload 2"
   ]
  },
  {
   "cell_type": "code",
   "execution_count": null,
   "metadata": {},
   "outputs": [],
   "source": [
    "from backtester_rt import *\n",
    "import matplotlib.pyplot as plt\n",
    "from time import time\n",
    "from passivbot import load_settings"
   ]
  },
  {
   "cell_type": "code",
   "execution_count": null,
   "metadata": {},
   "outputs": [],
   "source": [
    "plt.rcParams['figure.figsize'] = [21, 13]\n",
    "pd.set_option('precision', 10)"
   ]
  },
  {
   "cell_type": "code",
   "execution_count": null,
   "metadata": {},
   "outputs": [],
   "source": [
    "settings = load_settings('default')\n",
    "all_coins = set(settings['coins'])\n",
    "settings"
   ]
  },
  {
   "cell_type": "code",
   "execution_count": null,
   "metadata": {},
   "outputs": [],
   "source": [
    "p = 1.529\n",
    "max_span = 60 * 18\n",
    "n = 11\n",
    "spans = np.array([p**i for i in range(n)])\n",
    "spans = list((spans / spans.max() * max_span).round().astype(int))\n",
    "spans"
   ]
  },
  {
   "cell_type": "code",
   "execution_count": null,
   "metadata": {},
   "outputs": [],
   "source": [
    "# modify loaded settings\n",
    "for c in settings['coins']:\n",
    "    settings['coins'][c]['profit_pct'] = 0.005\n",
    "    settings['coins'][c]['account_equity_pct_per_trade'] = 0.001\n",
    "    settings['coins'][c]['entry_spread'] = 0.001\n",
    "    settings['coins'][c]['account_equity_pct_per_hour'] = 0.0005\n",
    "settings['ema_spans_minutes'] = [15, 1080] # used only smallest and largest ema to speed up ema calculation\n",
    "                                           # comparing min_emas([15, 1080]) to\n",
    "                                           # min_emas([15, 25, 40, 64, 102, 164, 263, 421, 675, 1080])\n",
    "                                           # shows negligible difference\n",
    "            \n",
    "            \n",
    "            \n",
    "            \n",
    "            \n",
    "# necessary backtester settings\n",
    "settings['start_quot'] = 0.15\n",
    "settings['fee'] = 0.00075 # vip1\n",
    "settings['margin'] = 5\n",
    "if settings['margin'] == 5:\n",
    "    settings['liquidation_margin_level'] = 1.05\n",
    "elif settings['margin'] == 3:\n",
    "    settings['liquidation_margin_level'] = 1.1\n",
    "else:\n",
    "    settings['liquidation_margin_level'] = 1.1\n",
    "settings['min_quot_cost'] = 0.0001\n",
    "settings"
   ]
  },
  {
   "cell_type": "code",
   "execution_count": null,
   "metadata": {},
   "outputs": [],
   "source": [
    "symbols = [c + '/BTC' for c in all_coins]\n",
    "symbols = sorted(symbols)\n",
    "\n",
    "n_days = 30 * 3\n",
    "symbols, len(symbols)"
   ]
  },
  {
   "cell_type": "code",
   "execution_count": null,
   "metadata": {},
   "outputs": [],
   "source": [
    "df = create_df(symbols, n_days, settings, no_download=False) # set no_download to True to use cached raw_trades"
   ]
  },
  {
   "cell_type": "code",
   "execution_count": null,
   "metadata": {},
   "outputs": [],
   "source": [
    "bl, entrl, exitl, exitpl = backtest(df, settings)"
   ]
  },
  {
   "cell_type": "code",
   "execution_count": null,
   "metadata": {},
   "outputs": [],
   "source": [
    "bldf = pd.DataFrame(bl).set_index('timestamp')"
   ]
  },
  {
   "cell_type": "code",
   "execution_count": null,
   "metadata": {},
   "outputs": [],
   "source": [
    "start_equity = bldf.acc_equity_quot.iloc[0]\n",
    "end_equity = bldf.acc_equity_quot.iloc[-1]\n",
    "n_days = (bldf.index[-1] - bldf.index[0]) / 1000 / 60 / 60 / 24\n",
    "avg_daily_gain = (end_equity / start_equity)**(1 / n_days)\n",
    "hwme = bldf.acc_equity_quot.max()\n",
    "hwmi = bldf.acc_equity_quot.idxmax()\n",
    "n_days_hwm = (hwmi - bldf.index[0]) / 1000 / 60 / 60 / 24\n",
    "max_daily_gain = (hwme / start_equity)**(1 / n_days_hwm)\n",
    "plt.plot(np.linspace(0, 100, len(bldf)), bldf.acc_equity_quot.values)\n",
    "\n",
    "\n",
    "print('               ndays', round(n_days, 2))\n",
    "print('start end daily gain', round(avg_daily_gain, 8))\n",
    "print('      max daily gain', max_daily_gain)\n",
    "print('      low water mark', bldf.acc_equity_quot.min())\n",
    "print('     high water mark', hwme)\n",
    "print('                 end', bldf.acc_equity_quot.iloc[-1])\n",
    "print('                mean', bldf.acc_equity_quot.mean())\n",
    "print('         yearly gain', max_daily_gain ** 365)\n",
    "\n",
    "xs = np.linspace(0, 100, len(bldf))\n",
    "plt.plot(xs, bldf.acc_equity_quot.values)\n",
    "wema = bldf.acc_equity_quot.ewm(span=100).mean().values\n",
    "plt.plot(xs, wema)\n",
    "print('            ema gain', (wema[-1] / wema[0])**(1 / n_days))\n",
    "\n"
   ]
  },
  {
   "cell_type": "code",
   "execution_count": null,
   "metadata": {},
   "outputs": [],
   "source": [
    "margin_level = (bldf.onhand_ito_quot / bldf.acc_debt_quot).replace([np.inf, -np.inf], np.nan)\n",
    "margin_level = margin_level[margin_level < 2]\n",
    "margin_level = margin_level[margin_level > 0]\n",
    "if len(margin_level) > 1:\n",
    "    print('margin level')\n",
    "    plt.plot([margin_level.index[0], margin_level.index[-1]], [settings['liquidation_margin_level']] * 2)\n",
    "    margin_level.plot()\n"
   ]
  },
  {
   "cell_type": "code",
   "execution_count": null,
   "metadata": {},
   "outputs": [],
   "source": [
    "bldfc = bldf.drop(['acc_equity_quot', 'acc_debt_quot', 'BTC', 'onhand_ito_quot', 'credit_avbl_quot'], axis=1)\n",
    "bldfc.plot()\n",
    "print('\\nbiggest shrt bags')\n",
    "print(bldfc.min().sort_values())\n",
    "print('\\nbiggest long bags')\n",
    "print(bldfc.max().sort_values()[::-1])"
   ]
  },
  {
   "cell_type": "code",
   "execution_count": null,
   "metadata": {},
   "outputs": [],
   "source": [
    "print('sum_bag_size / acc_equity green')\n",
    "print('credit_avbl_quot purple')\n",
    "(bldfc.abs().sum(axis=1) / bldf.acc_equity_quot).plot(style='g-')\n",
    "bldf.credit_avbl_quot.plot(style='m-')"
   ]
  },
  {
   "cell_type": "code",
   "execution_count": null,
   "metadata": {},
   "outputs": [],
   "source": [
    "tdfs = {}\n",
    "analyses = {}\n",
    "for s in symbols:\n",
    "    print(s)\n",
    "    entrdf = pd.DataFrame([e for e in entrl if e['symbol'] == s]).set_index('timestamp')\n",
    "    exitdf = pd.DataFrame([e for e in exitl if e['symbol'] == s]).set_index('timestamp')\n",
    "    pricedf = pd.DataFrame([e for e in exitpl if e['symbol'] == s]).set_index('timestamp')\n",
    "    tdfs[s] = {\n",
    "        'lentr': entrdf[entrdf.side == 'buy'],\n",
    "        'sentr': entrdf[entrdf.side == 'sell'],\n",
    "        'lexit': exitdf[exitdf.side == 'sell'],\n",
    "        'sexit': exitdf[exitdf.side == 'buy'],\n",
    "        'lprice': pricedf[pricedf.side == 'sell'],\n",
    "        'sprice': pricedf[pricedf.side == 'buy'],\n",
    "        'buys': pd.DataFrame([e for e in entrl + exitl if e['symbol'] == s and e['side'] == 'buy']).set_index('timestamp'),\n",
    "        'sels': pd.DataFrame([e for e in entrl + exitl if e['symbol'] == s and e['side'] == 'sell']).set_index('timestamp')\n",
    "        \n",
    "    }\n",
    "    levwap = tdfs[s]['lentr'].cost.sum() / tdfs[s]['lentr'].amount.sum()\n",
    "    sevwap = tdfs[s]['sentr'].cost.sum() / tdfs[s]['sentr'].amount.sum()\n",
    "    analyses[s] = {'levwap': levwap, 'sevwap': sevwap, 'sele': sevwap / levwap}"
   ]
  },
  {
   "cell_type": "code",
   "execution_count": null,
   "metadata": {},
   "outputs": [],
   "source": [
    "s = 'ETH/BTC'\n",
    "lentr = tdfs[s]['lentr']\n",
    "sentr = tdfs[s]['sentr']\n",
    "lexit = tdfs[s]['lexit']\n",
    "sexit = tdfs[s]['sexit']\n",
    "lprice = tdfs[s]['lprice']\n",
    "sprice = tdfs[s]['sprice']"
   ]
  },
  {
   "cell_type": "code",
   "execution_count": null,
   "metadata": {},
   "outputs": [],
   "source": [
    "lprice.price.plot()\n",
    "sprice.price.plot()"
   ]
  },
  {
   "cell_type": "code",
   "execution_count": null,
   "metadata": {},
   "outputs": [],
   "source": [
    "lentr.price.plot(style='b.-')\n",
    "sentr.price.plot(style='r.-')\n",
    "levwap = lentr.cost.sum() / lentr.amount.sum()\n",
    "sevwap = sentr.cost.sum() / sentr.amount.sum()\n",
    "levwap, sevwap, sevwap / levwap"
   ]
  },
  {
   "cell_type": "code",
   "execution_count": null,
   "metadata": {},
   "outputs": [],
   "source": [
    "lprice.price.plot()\n",
    "lentr.price.plot(style='b.-')\n",
    "lexit.price.plot(style='ro')\n",
    "lxvwap = lexit.cost.sum() / lexit.amount.sum()\n",
    "levwap, lxvwap, lxvwap / levwap"
   ]
  },
  {
   "cell_type": "code",
   "execution_count": null,
   "metadata": {},
   "outputs": [],
   "source": [
    "sprice.price.plot()\n",
    "sentr.price.plot(style='r.-')\n",
    "sexit.price.plot(style='bo')\n",
    "sxvwap = sexit.cost.sum() / sexit.amount.sum()\n",
    "sevwap, sxvwap, sevwap / sxvwap"
   ]
  },
  {
   "cell_type": "code",
   "execution_count": null,
   "metadata": {},
   "outputs": [],
   "source": [
    "lexit.price.plot(style='ro-')\n",
    "sexit.price.plot(style='bo-')\n",
    "lxvwap, sxvwap, lxvwap / sxvwap"
   ]
  },
  {
   "cell_type": "code",
   "execution_count": null,
   "metadata": {},
   "outputs": [],
   "source": [
    "bvwap = tdfs[s]['buys'].cost.sum() / tdfs[s]['buys'].amount.sum()\n",
    "svwap = tdfs[s]['sels'].cost.sum() / tdfs[s]['sels'].amount.sum()\n",
    "bvwap, svwap, svwap / bvwap"
   ]
  },
  {
   "cell_type": "code",
   "execution_count": null,
   "metadata": {},
   "outputs": [],
   "source": []
  }
 ],
 "metadata": {
  "kernelspec": {
   "display_name": "Python 3",
   "language": "python",
   "name": "python3"
  },
  "language_info": {
   "codemirror_mode": {
    "name": "ipython",
    "version": 3
   },
   "file_extension": ".py",
   "mimetype": "text/x-python",
   "name": "python",
   "nbconvert_exporter": "python",
   "pygments_lexer": "ipython3",
   "version": "3.8.2"
  }
 },
 "nbformat": 4,
 "nbformat_minor": 4
}
