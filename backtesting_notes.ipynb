{
 "cells": [
  {
   "cell_type": "code",
   "execution_count": null,
   "metadata": {},
   "outputs": [],
   "source": [
    "%load_ext autoreload\n",
    "%autoreload 2"
   ]
  },
  {
   "cell_type": "code",
   "execution_count": null,
   "metadata": {},
   "outputs": [],
   "source": [
    "import numpy as np\n",
    "import pandas as pd\n",
    "import matplotlib.pyplot as plt\n",
    "import trade_data\n",
    "from passivbot import load_settings\n",
    "from backtester import *"
   ]
  },
  {
   "cell_type": "code",
   "execution_count": null,
   "metadata": {},
   "outputs": [],
   "source": [
    "plt.rcParams['figure.figsize'] = [21, 13]\n",
    "pd.set_option('precision', 10)"
   ]
  },
  {
   "cell_type": "code",
   "execution_count": null,
   "metadata": {},
   "outputs": [],
   "source": [
    "settings = load_settings('default')\n",
    "settings"
   ]
  },
  {
   "cell_type": "code",
   "execution_count": null,
   "metadata": {},
   "outputs": [],
   "source": [
    "# modify ema spans\n",
    "'''\n",
    "p = 1.65\n",
    "max_span = 60 * 18\n",
    "n = 11\n",
    "spans = np.array([p**i for i in range(n)])\n",
    "spans = list((spans / spans.max() * max_span).round().astype(int))\n",
    "spans\n",
    "'''"
   ]
  },
  {
   "cell_type": "code",
   "execution_count": null,
   "metadata": {},
   "outputs": [],
   "source": [
    "coins = sorted(set(settings['coins_long'] + settings['coins_shrt']))\n",
    "symbols = [f'{c}/BTC' for c in coins]\n",
    "symbols = sorted(symbols)\n",
    "n_days = 30 * 18\n",
    "symbols"
   ]
  },
  {
   "cell_type": "code",
   "execution_count": null,
   "metadata": {},
   "outputs": [],
   "source": [
    "fee = 1 - 0.0675 * 0.01 # vip1\n",
    "\n",
    "# modify settings here\n",
    "\n",
    "#settings['hours_rolling_small_trade_window'] = 1.0\n",
    "#settings['ema_spans_minutes'] = spans\n",
    "#settings['profit_pct'] = 0.0025\n",
    "\n",
    "#settings['account_equity_pct_per_trade'] = 0.0003\n",
    "\n",
    "#settings['min_seconds_between_same_side_entries'] = 60\n",
    "\n",
    "#settings['max_memory_span_days'] = 3600\n",
    "\n",
    "#settings['coins_long'] = coins\n",
    "#settings['coins_shrt'] = coins\n",
    "\n",
    "#settings['exponent'] = 12\n",
    "#settings['min_big_trade_cost_multiplier'] = 10\n",
    "\n",
    "#settings['ema_spans_minutes'] = [15, 25, 40, 64, 102, 164, 263, 421, 675, 1080]\n",
    "print(settings['account_equity_pct_per_trade'] * 60)"
   ]
  },
  {
   "cell_type": "code",
   "execution_count": null,
   "metadata": {},
   "outputs": [],
   "source": [
    "# set no_download to True to load faster if already downloaded ohlcvs\n",
    "high_low_means = load_hlms(symbols, n_days, no_download=False)"
   ]
  },
  {
   "cell_type": "code",
   "execution_count": null,
   "metadata": {},
   "outputs": [],
   "source": [
    "df = add_emas(high_low_means, settings['ema_spans_minutes'], 0.005)\n",
    "print(f'n_days {(df.index[-1] - df.index[0]) / 1000 / 60 / 60 / 24:2f}')"
   ]
  },
  {
   "cell_type": "code",
   "execution_count": null,
   "metadata": {},
   "outputs": [],
   "source": [
    "df"
   ]
  },
  {
   "cell_type": "code",
   "execution_count": null,
   "metadata": {},
   "outputs": [],
   "source": [
    "balance_list, lentr, sentr, lexit, sexit, lexitpl, sexitpl = backtest(df, settings)"
   ]
  },
  {
   "cell_type": "code",
   "execution_count": null,
   "metadata": {},
   "outputs": [],
   "source": [
    "# balances are in terms of quot\n",
    "bldf = pd.DataFrame([e for e in balance_list[::10]]).set_index('timestamp')"
   ]
  },
  {
   "cell_type": "code",
   "execution_count": null,
   "metadata": {},
   "outputs": [],
   "source": [
    "bldfc = bldf.drop(['acc_equity_quot', 'acc_debt_quot', 'BTC'], axis=1)\n",
    "bldfc.plot()\n",
    "print('\\nbiggest shrt bags')\n",
    "print(bldfc.min().sort_values())\n",
    "print('\\nbiggest long bags')\n",
    "print(bldfc.max().sort_values()[::-1])"
   ]
  },
  {
   "cell_type": "code",
   "execution_count": null,
   "metadata": {},
   "outputs": [],
   "source": [
    "bldf.BTC.plot()"
   ]
  },
  {
   "cell_type": "code",
   "execution_count": null,
   "metadata": {},
   "outputs": [],
   "source": [
    "start_equity = bldf.acc_equity_quot.iloc[0]\n",
    "end_equity = bldf.acc_equity_quot.iloc[-1]\n",
    "n_days = (bldf.index[-1] - bldf.index[0]) / 1000 / 60 / 60 / 24\n",
    "avg_daily_gain = (end_equity / start_equity)**(1 / n_days)\n",
    "hwme = bldf.acc_equity_quot.max()\n",
    "hwmi = bldf.acc_equity_quot.idxmax()\n",
    "n_days_hwm = (hwmi - bldf.index[0]) / 1000 / 60 / 60 / 24\n",
    "max_daily_gain = (hwme / start_equity)**(1 / n_days_hwm)\n",
    "plt.plot(np.linspace(0, 100, len(bldf)), bldf.acc_equity_quot.values)\n",
    "\n",
    "\n",
    "print('               ndays', round(n_days, 2))\n",
    "print('start end daily gain', round(avg_daily_gain, 8))\n",
    "print('      max daily gain', max_daily_gain)\n",
    "print('      low water mark', bldf.acc_equity_quot.min())\n",
    "print('     high water mark', hwme)\n",
    "print('                 end', bldf.acc_equity_quot.iloc[-1])\n",
    "print('                mean', bldf.acc_equity_quot.mean())\n",
    "print('         yearly gain', max_daily_gain ** 365)\n",
    "\n",
    "xs = np.linspace(0, 100, len(bldf))\n",
    "plt.plot(xs, bldf.acc_equity_quot.values)\n",
    "wema = bldf.acc_equity_quot.ewm(span=10000).mean().values\n",
    "plt.plot(xs, wema)\n",
    "print('            ema gain', (wema[-1] / wema[0])**(1 / n_days))\n",
    "\n"
   ]
  },
  {
   "cell_type": "code",
   "execution_count": null,
   "metadata": {},
   "outputs": [],
   "source": [
    "bldf.acc_debt_quot.plot()"
   ]
  },
  {
   "cell_type": "code",
   "execution_count": null,
   "metadata": {},
   "outputs": [],
   "source": [
    "# bag status at end\n",
    "sorted([(round(e[1], 6), e[0]) for e in dict(bldf.iloc[-1]).items() if 'acc' not in e[0]])"
   ]
  },
  {
   "cell_type": "code",
   "execution_count": null,
   "metadata": {},
   "outputs": [],
   "source": [
    "r = {}\n",
    "for s in map(lambda x: x.replace('/', '_'), symbols):\n",
    "    # all buys\n",
    "    try:\n",
    "        abdf = pd.DataFrame(sorted(lentr[s] + sexit[s], key=lambda x: x['timestamp'])).set_index('timestamp')\n",
    "    except:\n",
    "        print(s, 'no buys')\n",
    "        abdf = None\n",
    "    # all sels\n",
    "    try:\n",
    "        asdf = pd.DataFrame(sorted(sentr[s] + lexit[s], key=lambda x: x['timestamp'])).set_index('timestamp')\n",
    "    except:\n",
    "        print(s, 'no sels')\n",
    "        asdf = None\n",
    "    if abdf is None or asdf is None:\n",
    "        continue\n",
    "    buy_cost = (abdf.price * abdf.amount).sum()\n",
    "    sel_cost = (asdf.price * asdf.amount).sum()\n",
    "    sum_cost = buy_cost + sel_cost\n",
    "    buy_vwap = buy_cost / abdf.amount.sum()\n",
    "    sel_vwap = sel_cost / asdf.amount.sum()\n",
    "    diff = (sel_vwap / buy_vwap) * fee**2\n",
    "    approx_profit = buy_cost * (diff * fee**2 - 1)\n",
    "    r[s] = {'vol': sum_cost, 'svwap / bvwap': sel_vwap / buy_vwap,\n",
    "            'vol * (sel_vwap / buy_vwap * fee**2 - 1)': sum_cost * (sel_vwap / buy_vwap * fee**2 - 1)}\n",
    "\n",
    "sum_vol = sum(r[s]['vol'] for s in r)\n",
    "print('sum vol', sum_vol)\n",
    "print('monthly vol', sum_vol / n_days * 30)\n",
    "rdf = pd.DataFrame(r).T.sort_values('vol * (sel_vwap / buy_vwap * fee**2 - 1)')\n",
    "print('sum', rdf['vol * (sel_vwap / buy_vwap * fee**2 - 1)'].sum())\n",
    "rdf"
   ]
  },
  {
   "cell_type": "code",
   "execution_count": null,
   "metadata": {},
   "outputs": [],
   "source": [
    "# analyze particular symbol\n",
    "s = 'XMR_BTC'"
   ]
  },
  {
   "cell_type": "code",
   "execution_count": null,
   "metadata": {},
   "outputs": [],
   "source": [
    "try:\n",
    "    ledf = pd.DataFrame(lentr[s]).set_index('timestamp')\n",
    "    lexitdf = pd.DataFrame(lexit[s]).set_index('timestamp')\n",
    "    lexitpdf = pd.DataFrame(lexitpl[s]).set_index('timestamp')\n",
    "    did_long = True\n",
    "except:\n",
    "    print('no longs', s)\n",
    "    did_long = False\n",
    "try:\n",
    "    sedf = pd.DataFrame(sentr[s]).set_index('timestamp')\n",
    "    sexitdf = pd.DataFrame(sexit[s]).set_index('timestamp')\n",
    "    sexitpdf = pd.DataFrame(sexitpl[s]).set_index('timestamp')   \n",
    "    did_shrt = True\n",
    "except:\n",
    "    print('no shorts', s)\n",
    "    did_shrt = False"
   ]
  },
  {
   "cell_type": "code",
   "execution_count": null,
   "metadata": {},
   "outputs": [],
   "source": [
    "# longest bag durations\n",
    "d = 1000 * 60 * 60 * 24\n",
    "if did_long:\n",
    "    for e in sorted(np.diff(np.append(lexitdf.index, ledf.index[-1]) / d))[-10:]:\n",
    "        print('long bag duration days', round(e, 2))\n",
    "print()\n",
    "if did_shrt:\n",
    "    for e in sorted(np.diff(np.append(sexitdf.index, sedf.index[-1]) / d))[-10:]:\n",
    "        print('shrt bag duration days', round(e, 2))"
   ]
  },
  {
   "cell_type": "code",
   "execution_count": null,
   "metadata": {},
   "outputs": [],
   "source": [
    "if did_long:\n",
    "    high_low_means[s + '_mean'].plot()\n",
    "    lexitpdf.price.plot(style='r-')\n",
    "    ledf.price.plot(style='b.-')\n",
    "    lexitdf.price.plot(style='ro')"
   ]
  },
  {
   "cell_type": "code",
   "execution_count": null,
   "metadata": {},
   "outputs": [],
   "source": [
    "if did_shrt:\n",
    "    high_low_means[s + '_mean'].plot()\n",
    "    sexitpdf.price.plot(style='b-')\n",
    "    sedf.price.plot(style='r.-')\n",
    "    sexitdf.price.plot(style='bo')"
   ]
  },
  {
   "cell_type": "code",
   "execution_count": null,
   "metadata": {},
   "outputs": [],
   "source": []
  },
  {
   "cell_type": "code",
   "execution_count": null,
   "metadata": {},
   "outputs": [],
   "source": []
  },
  {
   "cell_type": "code",
   "execution_count": null,
   "metadata": {},
   "outputs": [],
   "source": [
    "xs = np.linspace(1.0, 1.5, 100)\n",
    "ys = [max(1.0, min(9.0, k**12)) for k in xs]\n",
    "plt.plot(xs, ys)"
   ]
  },
  {
   "cell_type": "code",
   "execution_count": null,
   "metadata": {},
   "outputs": [],
   "source": []
  }
 ],
 "metadata": {
  "kernelspec": {
   "display_name": "Python 3",
   "language": "python",
   "name": "python3"
  },
  "language_info": {
   "codemirror_mode": {
    "name": "ipython",
    "version": 3
   },
   "file_extension": ".py",
   "mimetype": "text/x-python",
   "name": "python",
   "nbconvert_exporter": "python",
   "pygments_lexer": "ipython3",
   "version": "3.8.2"
  }
 },
 "nbformat": 4,
 "nbformat_minor": 4
}
