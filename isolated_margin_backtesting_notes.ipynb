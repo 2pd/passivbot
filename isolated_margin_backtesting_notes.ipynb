{
 "cells": [
  {
   "cell_type": "code",
   "execution_count": null,
   "metadata": {},
   "outputs": [],
   "source": [
    "%load_ext autoreload\n",
    "%autoreload 2"
   ]
  },
  {
   "cell_type": "code",
   "execution_count": null,
   "metadata": {},
   "outputs": [],
   "source": [
    "from isolated_backtester import *\n",
    "from trade_data import fetch_ohlcvs\n",
    "from passivbot_isolated_margin import load_settings\n",
    "import matplotlib.pyplot as plt\n",
    "import pandas as pd\n",
    "import numpy as np"
   ]
  },
  {
   "cell_type": "code",
   "execution_count": null,
   "metadata": {},
   "outputs": [],
   "source": [
    "plt.rcParams['figure.figsize'] = [21, 13]\n",
    "pd.set_option('precision', 10)"
   ]
  },
  {
   "cell_type": "code",
   "execution_count": null,
   "metadata": {},
   "outputs": [],
   "source": [
    "symbol = 'XMR/BTC'\n",
    "n_days = 90"
   ]
  },
  {
   "cell_type": "code",
   "execution_count": null,
   "metadata": {},
   "outputs": [],
   "source": [
    "all_settings = load_settings('default')\n",
    "settings = all_settings['symbols'][symbol]\n",
    "settings"
   ]
  },
  {
   "cell_type": "code",
   "execution_count": null,
   "metadata": {},
   "outputs": [],
   "source": [
    "# modify settings\n",
    "\n",
    "settings['account_equity_pct_per_entry'] = 0.0001\n",
    "settings['account_equity_pct_per_hour'] = 0.001\n",
    "settings['ema_spans_minutes'] = [15, 25, 40, 64, 102, 164, 263, 421, 675, 1080]\n",
    "settings['entry_spread'] = 0.001\n",
    "settings['entry_vol_modifier_exponent'] = 20\n",
    "settings['long'] = True\n",
    "settings['markup_pct_multiplier'] = 0.5\n",
    "settings['max_leverage'] = 4\n",
    "settings['max_markup_pct'] = 0.05\n",
    "settings['min_exit_cost_multiplier'] = 20\n",
    "settings['min_markup_pct'] = 0.0025\n",
    "settings['n_days_to_min_markup'] = 12\n",
    "settings['shrt'] = True"
   ]
  },
  {
   "cell_type": "code",
   "execution_count": null,
   "metadata": {},
   "outputs": [],
   "source": [
    "ohlcvs = fetch_ohlcvs(symbol, n_days)"
   ]
  },
  {
   "cell_type": "code",
   "execution_count": null,
   "metadata": {},
   "outputs": [],
   "source": [
    "df = prep_df(ohlcvs, settings)"
   ]
  },
  {
   "cell_type": "code",
   "execution_count": null,
   "metadata": {},
   "outputs": [],
   "source": [
    "df.avg.plot()"
   ]
  },
  {
   "cell_type": "code",
   "execution_count": null,
   "metadata": {},
   "outputs": [],
   "source": [
    "logs, trades = backtest(df, settings)"
   ]
  },
  {
   "cell_type": "code",
   "execution_count": null,
   "metadata": {},
   "outputs": [],
   "source": [
    "ldf = pd.DataFrame(logs).set_index('timestamp')\n",
    "tdf = pd.DataFrame(trades).set_index('timestamp')\n",
    "ldf"
   ]
  },
  {
   "cell_type": "code",
   "execution_count": null,
   "metadata": {},
   "outputs": [],
   "source": [
    "ldf.equity.plot()"
   ]
  },
  {
   "cell_type": "code",
   "execution_count": null,
   "metadata": {},
   "outputs": [],
   "source": [
    "buys = tdf[tdf.side == 'buy']\n",
    "sels = tdf[tdf.side == 'sel']\n",
    "lp = ldf.long_exit_price\n",
    "sp = ldf.shrt_exit_price\n",
    "le = buys[buys.type == 'entry'] # long entry\n",
    "lx = sels[sels.type == 'exit']  # long exit\n",
    "se = sels[sels.type == 'entry'] # shrt entry\n",
    "sx = buys[buys.type == 'exit']  # shrt exit"
   ]
  },
  {
   "cell_type": "code",
   "execution_count": null,
   "metadata": {},
   "outputs": [],
   "source": [
    "lp.plot()\n",
    "le.price.plot(style='b.--')\n",
    "lx.price.plot(style='ro')"
   ]
  },
  {
   "cell_type": "code",
   "execution_count": null,
   "metadata": {},
   "outputs": [],
   "source": [
    "sp.plot()\n",
    "se.price.plot(style='r.--')\n",
    "sx.price.plot(style='bo')"
   ]
  },
  {
   "cell_type": "code",
   "execution_count": null,
   "metadata": {},
   "outputs": [],
   "source": [
    "bvwap = buys.cost.sum() / buys.amount.sum()\n",
    "svwap = sels.cost.sum() / sels.amount.sum()\n",
    "levwap = le.cost.sum() / le.amount.sum()\n",
    "lxvwap = lx.cost.sum() / lx.amount.sum()\n",
    "sevwap = se.cost.sum() / se.amount.sum()\n",
    "sxvwap = sx.cost.sum() / sx.amount.sum()\n",
    "print('lxvwap / levwap', lxvwap / levwap)\n",
    "print('sevwap / sxvwap', sevwap / sxvwap)\n",
    "print('svwap / bvwap', svwap / bvwap)\n",
    "print('sevwap / levwap', sevwap / levwap)"
   ]
  },
  {
   "cell_type": "code",
   "execution_count": null,
   "metadata": {},
   "outputs": [],
   "source": []
  }
 ],
 "metadata": {
  "kernelspec": {
   "display_name": "Python 3",
   "language": "python",
   "name": "python3"
  },
  "language_info": {
   "codemirror_mode": {
    "name": "ipython",
    "version": 3
   },
   "file_extension": ".py",
   "mimetype": "text/x-python",
   "name": "python",
   "nbconvert_exporter": "python",
   "pygments_lexer": "ipython3",
   "version": "3.8.2"
  }
 },
 "nbformat": 4,
 "nbformat_minor": 4
}
