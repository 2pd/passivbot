{
 "cells": [
  {
   "cell_type": "code",
   "execution_count": null,
   "metadata": {},
   "outputs": [],
   "source": [
    "%load_ext autoreload\n",
    "%autoreload 2"
   ]
  },
  {
   "cell_type": "code",
   "execution_count": null,
   "metadata": {},
   "outputs": [],
   "source": [
    "from passivbot_isolated_margin import *\n",
    "import matplotlib.pyplot as plt\n",
    "import pandas as pd\n",
    "import numpy as np\n",
    "from pprint import PrettyPrinter\n",
    "from common_functions import sort_dict_keys"
   ]
  },
  {
   "cell_type": "code",
   "execution_count": null,
   "metadata": {},
   "outputs": [],
   "source": [
    "plt.rcParams['figure.figsize'] = [21, 13]\n",
    "pd.set_option('precision', 10)\n",
    "pp = PrettyPrinter()"
   ]
  },
  {
   "cell_type": "code",
   "execution_count": null,
   "metadata": {},
   "outputs": [],
   "source": [
    "user = 'your_user_name'\n",
    "settings = load_settings(user)\n",
    "settings"
   ]
  },
  {
   "cell_type": "code",
   "execution_count": null,
   "metadata": {},
   "outputs": [],
   "source": [
    "try:\n",
    "    await bot.cc.close()\n",
    "except:\n",
    "    pass\n",
    "bot = await create_bot(settings)"
   ]
  },
  {
   "cell_type": "code",
   "execution_count": null,
   "metadata": {},
   "outputs": [],
   "source": [
    "ss = sorted(bot.balance)\n",
    "bdf = pd.DataFrame(\n",
    "    {'equity': [bot.balance[s]['equity'] for s in ss],\n",
    "     'debt': [bot.balance[s]['debt'] for s in ss],\n",
    "     'onhand': [bot.balance[s]['onhand'] for s in ss],\n",
    "     'total_account_equity': [bot.balance[s]['total_account_equity'] for s in ss],\n",
    "     'total_account_debt': [bot.balance[s]['total_account_debt'] for s in ss],\n",
    "     'coin_equity': [bot.balance[s][bot.s2c[s]]['equity'] for s in ss],\n",
    "     'quot_equity': [bot.balance[s]['BTC']['equity'] for s in ss],\n",
    "     'coin_onhand': [bot.balance[s][bot.s2c[s]]['onhand'] for s in ss],\n",
    "     'quot_onhand': [bot.balance[s]['BTC']['onhand'] for s in ss],\n",
    "     'coin_borrowable': [bot.balance[s][bot.s2c[s]]['borrowable'] for s in ss],\n",
    "     'quot_borrowable': [bot.balance[s]['BTC']['borrowable'] for s in ss],\n",
    "    }, index=ss)\n",
    "bdf.sort_values('equity')"
   ]
  },
  {
   "cell_type": "code",
   "execution_count": null,
   "metadata": {},
   "outputs": [],
   "source": [
    "ss = bot.symbols\n",
    "analyses = {}\n",
    "n_days_ = 40\n",
    "mts = {}\n",
    "age_limit = (time() - 60 * 60 * 24 * n_days_) * 1000\n",
    "for s in ss:\n",
    "    mtdf = pd.DataFrame(bot.my_trades[s]).set_index('timestamp').sort_values('id')\n",
    "    mtdf = mtdf[mtdf.index > age_limit]\n",
    "    mts[s] = mtdf\n",
    "    threshold = bot.my_trades_analysis[s]['entry_exit_amount_threshold']\n",
    "    buys = mtdf[mtdf.side == 'buy']\n",
    "    sels = mtdf[mtdf.side == 'sell']\n",
    "    le = buys[buys.amount < threshold]\n",
    "    se = sels[sels.amount < threshold]\n",
    "    lx = sels[sels.amount >= threshold]\n",
    "    sx = buys[buys.amount >= threshold]\n",
    "    bvwap = buys.cost.sum() / bas if (bas := buys.amount.sum()) > 0 else 0\n",
    "    svwap = sels.cost.sum() / sas if (sas := sels.amount.sum()) > 0 else 0\n",
    "    rvwap = svwap / bvwap if bvwap and svwap else 1.0\n",
    "    rlvwap = (lx.cost.sum() / lx.amount.sum()) / (le.cost.sum() / le.amount.sum())\n",
    "    rsvwap = (se.cost.sum() / se.amount.sum()) / (sx.cost.sum() / sx.amount.sum())\n",
    "    \n",
    "\n",
    "    \n",
    "    \n",
    "    analyses[s] = {'rvwap': round(rvwap, 6), 'n_trades': len(mtdf),\n",
    "                   'vol': round(mtdf.cost.sum(), 6), 'rlvwap': round(rlvwap, 6),\n",
    "                   'rsvwap': rsvwap, 'bvol': round(buys.cost.sum(), 6), 'svol': round(sels.cost.sum(), 6),\n",
    "                   'n_days': (mtdf.index[-1] - mtdf.index[0]) / DAY_TO_MILLIS}\n",
    "    anl = bot.my_trades_analysis[s]\n",
    "    nanl = {\n",
    "        'long_bag_duration_days': (bot.cc.milliseconds() - anl['long_start_ts']) / DAY_TO_MILLIS,\n",
    "        'shrt_bag_duration_days': (bot.cc.milliseconds() - anl['shrt_start_ts']) / DAY_TO_MILLIS,\n",
    "        'long_cost': anl['long_cost'],\n",
    "        'shrt_cost': anl['shrt_cost'],\n",
    "        'long_vwap_last_price_diff': anl['long_vwap'] / bot.last_price[s],\n",
    "        'shrt_vwap_last_price_diff': bot.last_price[s] / anl['shrt_vwap'] if anl['shrt_vwap'] else 1.0,\n",
    "        'max_min_range': mtdf.price.max() / mtdf.price.min(),\n",
    "        'entry_delay_minutes': bot.balance[s]['entry_cost'] / (bot.settings[s]['account_equity_pct_per_hour'] *\n",
    "                                                               bot.balance[s]['total_account_equity']) * 60,\n",
    "        'avg_n_entries_per_day': (len(le) + len(se)) / analyses[s]['n_days'],\n",
    "    }\n",
    "    nanl['long_cost_times_price_diff'] = nanl['long_cost'] * nanl['long_vwap_last_price_diff']\n",
    "    nanl['shrt_cost_times_price_diff'] = nanl['shrt_cost'] * nanl['shrt_vwap_last_price_diff']\n",
    "    analyses[s] = {**analyses[s], **nanl}\n",
    "anldf = pd.DataFrame(analyses).T\n",
    "allmt = pd.concat(mts.values(), axis=0).sort_index()\n",
    "anldf.sort_values('vol')"
   ]
  },
  {
   "cell_type": "code",
   "execution_count": null,
   "metadata": {},
   "outputs": [],
   "source": [
    "s = 'XMR/BTC'\n",
    "await bot.update_my_trades(s)\n",
    "mtdf = pd.DataFrame(bot.my_trades[s]).set_index('timestamp').sort_values('id')\n",
    "mtdf = mtdf[mtdf.index > age_limit]\n",
    "threshold = bot.my_trades_analysis[s]['entry_exit_amount_threshold']\n",
    "buys = mtdf[mtdf.side == 'buy']\n",
    "sels = mtdf[mtdf.side == 'sell']\n",
    "le = buys[buys.amount < threshold]\n",
    "se = sels[sels.amount < threshold]\n",
    "lx = sels[sels.amount >= threshold]\n",
    "sx = buys[buys.amount >= threshold]"
   ]
  },
  {
   "cell_type": "code",
   "execution_count": null,
   "metadata": {},
   "outputs": [],
   "source": [
    "# last n trades\n",
    "mtdf.tail(30)"
   ]
  },
  {
   "cell_type": "code",
   "execution_count": null,
   "metadata": {},
   "outputs": [],
   "source": [
    "print(s)\n",
    "bot.get_ideal_orders(s)\n",
    "pp.pprint(bot.ideal_orders[s])\n",
    "c, q = bot.symbol_split[s]\n",
    "anl = bot.my_trades_analysis[s]\n",
    "bal = bot.balance[s]\n",
    "le.price.plot(style='b.--')\n",
    "se.price.plot(style='r.--')\n",
    "lx.price.plot(style='ro')\n",
    "sx.price.plot(style='bo')\n",
    "if bot.ideal_orders[s]['long_sel']['price']:\n",
    "    plt.plot([mtdf.index[-1]], [bot.ideal_orders[s]['long_sel']['price']], 'rx')\n",
    "if bot.ideal_orders[s]['shrt_buy']['price']:\n",
    "    plt.plot([mtdf.index[-1]], [bot.ideal_orders[s]['shrt_buy']['price']], 'bx')\n",
    "anl"
   ]
  },
  {
   "cell_type": "code",
   "execution_count": null,
   "metadata": {},
   "outputs": [],
   "source": []
  }
 ],
 "metadata": {
  "kernelspec": {
   "display_name": "Python 3",
   "language": "python",
   "name": "python3"
  },
  "language_info": {
   "codemirror_mode": {
    "name": "ipython",
    "version": 3
   },
   "file_extension": ".py",
   "mimetype": "text/x-python",
   "name": "python",
   "nbconvert_exporter": "python",
   "pygments_lexer": "ipython3",
   "version": "3.8.2"
  }
 },
 "nbformat": 4,
 "nbformat_minor": 4
}
